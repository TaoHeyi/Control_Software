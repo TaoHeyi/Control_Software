{
 "cells": [
  {
   "cell_type": "code",
   "execution_count": 2,
   "id": "84f477a0-c962-4dd9-8c7c-e82ecf42c91f",
   "metadata": {},
   "outputs": [],
   "source": [
    "import matplotlib.pyplot as plt\n",
    "import matplotlib.pylab as pylab\n",
    "import sys\n",
    "import time\n",
    "\n",
    "import cv2\n",
    "import os\n",
    "import requests\n",
    "from io import BytesIO\n",
    "import PIL.Image\n",
    "import numpy as np\n",
    "import torch\n",
    "import pandas as pd\n",
    "import pickle"
   ]
  },
  {
   "cell_type": "code",
   "execution_count": 3,
   "id": "29ea5145-f246-4a26-a06e-345a04e05e8f",
   "metadata": {},
   "outputs": [
    {
     "name": "stdout",
     "output_type": "stream",
     "text": [
      "Enabling notebook extension jupyter-js-widgets/extension...\n",
      "      - Validating: \u001b[32mOK\u001b[0m\n"
     ]
    }
   ],
   "source": [
    "pylab.rcParams['figure.figsize'] = 20, 12\n",
    "!jupyter nbextension enable --py widgetsnbextension"
   ]
  },
  {
   "cell_type": "code",
   "execution_count": 4,
   "id": "58bb0462-f78b-4a7f-92b0-4b05a9c6d036",
   "metadata": {},
   "outputs": [],
   "source": [
    "sys.path.append('/home/heyitao2/Experiments/prediction/VL-T5/VL-T5/src')\n",
    "sys.path.append('/home/heyitao2/Experiments/prediction/VL-T5/VL-T5/inference')"
   ]
  },
  {
   "cell_type": "code",
   "execution_count": 5,
   "id": "8c49fd2c-d7a6-4343-bfa6-e17dce5ca8d8",
   "metadata": {},
   "outputs": [
    {
     "name": "stdout",
     "output_type": "stream",
     "text": [
      "/home/heyitao2/Experiments/prediction/VL-T5/VL-T5\n"
     ]
    }
   ],
   "source": [
    "cd VL-T5"
   ]
  },
  {
   "cell_type": "code",
   "execution_count": 6,
   "id": "928a7443-6866-4619-94de-1385e4241659",
   "metadata": {},
   "outputs": [
    {
     "name": "stdout",
     "output_type": "stream",
     "text": [
      "Enabling notebook extension jupyter-js-widgets/extension...\n",
      "      - Validating: \u001b[32mOK\u001b[0m\n"
     ]
    }
   ],
   "source": [
    "!jupyter nbextension enable --py widgetsnbextension"
   ]
  },
  {
   "cell_type": "code",
   "execution_count": 6,
   "id": "64a713b4-b797-42f6-bfaa-e7bb96d9a245",
   "metadata": {},
   "outputs": [
    {
     "name": "stdout",
     "output_type": "stream",
     "text": [
      "loading configuration file cache\n",
      "loading weights file https://cdn.huggingface.co/unc-nlp/frcnn-vg-finetuned/pytorch_model.bin from cache at /home/heyitao2/.cache/torch/transformers/57f6df6abe353be2773f2700159c65615babf39ab5b48114d2b49267672ae10f.77b59256a4cf8343ae0f923246a81489fc8d82f98d082edc2d2037c977c0d9d0\n",
      "All model checkpoint weights were used when initializing GeneralizedRCNN.\n",
      "\n",
      "All the weights of GeneralizedRCNN were initialized from the model checkpoint at unc-nlp/frcnn-vg-finetuned.\n",
      "If your task is similar to the task the model of the checkpoint was trained on, you can already use GeneralizedRCNN for predictions without further training.\n"
     ]
    }
   ],
   "source": [
    "from IPython.display import clear_output, Image, display\n",
    "import PIL.Image\n",
    "import io\n",
    "import json\n",
    "import torch\n",
    "import numpy as np\n",
    "from inference.processing_image import Preprocess\n",
    "from inference.visualizing_image import SingleImageViz\n",
    "from inference.modeling_frcnn import GeneralizedRCNN\n",
    "from inference.utils import Config, get_data\n",
    "\n",
    "import wget\n",
    "import pickle\n",
    "import os\n",
    "\n",
    "\n",
    "URL = \"https://raw.githubusercontent.com/airsplay/py-bottom-up-attention/master/demo/data/images/input.jpg\"\n",
    "OBJ_URL = \"https://raw.githubusercontent.com/airsplay/py-bottom-up-attention/master/demo/data/genome/1600-400-20/objects_vocab.txt\"\n",
    "ATTR_URL = \"https://raw.githubusercontent.com/airsplay/py-bottom-up-attention/master/demo/data/genome/1600-400-20/attributes_vocab.txt\"\n",
    "# GQA_URL = \"https://raw.githubusercontent.com/airsplay/lxmert/master/data/gqa/trainval_label2ans.json\"\n",
    "# VQA_URL = \"https://raw.githubusercontent.com/airsplay/lxmert/master/data/vqa/trainval_label2ans.json\"\n",
    "\n",
    "objids = get_data(OBJ_URL) \n",
    "attrids = get_data(ATTR_URL)\n",
    "# gqa_answers = get_data(GQA_URL) \n",
    "# vqa_answers = get_data(VQA_URL) \n",
    "frcnn_cfg = Config.from_pretrained(\"unc-nlp/frcnn-vg-finetuned\")\n",
    "frcnn = GeneralizedRCNN.from_pretrained(\"unc-nlp/frcnn-vg-finetuned\", config=frcnn_cfg) \n",
    "image_preprocess = Preprocess(frcnn_cfg) \n",
    "\n",
    "# for visualizing output\n",
    "def showarray(a, fmt='png'):\n",
    "    a = np.uint8(np.clip(a, 0, 255))\n",
    "    f = io.BytesIO()\n",
    "    PIL.Image.fromarray(a).save(f, fmt)\n",
    "    display(Image(data=f.getvalue()))"
   ]
  },
  {
   "cell_type": "code",
   "execution_count": 7,
   "id": "c07320fb-2a39-43c7-9df1-f77d1c0070ef",
   "metadata": {},
   "outputs": [],
   "source": [
    "csv_file = '/home/heyitao2/Experiments/prediction/VL-T5/shape_images_data/datainfo.csv'\n",
    "buttons_frame = pd.read_csv(csv_file)"
   ]
  },
  {
   "cell_type": "code",
   "execution_count": 8,
   "id": "f004379d-2b97-42c4-9773-daa5e15da534",
   "metadata": {},
   "outputs": [
    {
     "name": "stderr",
     "output_type": "stream",
     "text": [
      "/home/heyitao2/anaconda3/envs/software/lib/python3.9/site-packages/torch/functional.py:445: UserWarning: torch.meshgrid: in an upcoming release, it will be required to pass the indexing argument. (Triggered internally at  /opt/conda/conda-bld/pytorch_1634272204863/work/aten/src/ATen/native/TensorShape.cpp:2157.)\n",
      "  return _VF.meshgrid(tensors, **kwargs)  # type: ignore[attr-defined]\n"
     ]
    },
    {
     "name": "stdout",
     "output_type": "stream",
     "text": [
      "100\n",
      "200\n",
      "300\n",
      "400\n",
      "500\n",
      "600\n",
      "700\n",
      "800\n",
      "900\n",
      "1000\n",
      "Here is total running time 8571.630470752716\n"
     ]
    }
   ],
   "source": [
    "img_dir = '/home/heyitao2/Experiments/prediction/VL-T5/shape_images_data'\n",
    "files = os.listdir(img_dir)[:-1]\n",
    "output = {}\n",
    "index = 1\n",
    "start_time = time.time()\n",
    "for file in files:\n",
    "    img_path = os.path.join(img_dir, file)\n",
    "    images, sizes, scales_yx = image_preprocess(img_path)\n",
    "    img_output_dict = frcnn(images, sizes, scales_yx = scales_yx, padding = 'max_detections', max_detections = frcnn_cfg.max_detections, return_tensors = 'pt' )\n",
    "#     print(img_output_dict.keys())\n",
    "    output[file] = img_output_dict\n",
    "    index += 1\n",
    "    if(index%100==0):\n",
    "        print(index)\n",
    "    \n",
    "end_time = time.time()\n",
    "print(\"Here is total running time\", end_time-start_time)"
   ]
  },
  {
   "cell_type": "code",
   "execution_count": 9,
   "id": "24d218f5-e93c-4fac-9956-b9b48e9e403f",
   "metadata": {},
   "outputs": [
    {
     "name": "stdout",
     "output_type": "stream",
     "text": [
      "8571.630470752716\n"
     ]
    }
   ],
   "source": [
    "print(end_time-start_time)"
   ]
  },
  {
   "cell_type": "code",
   "execution_count": 7,
   "id": "ca9cacef-5c0d-4cce-bf7b-70a7a4b4fbcf",
   "metadata": {},
   "outputs": [
    {
     "ename": "NameError",
     "evalue": "name 'output' is not defined",
     "output_type": "error",
     "traceback": [
      "\u001b[0;31m---------------------------------------------------------------------------\u001b[0m",
      "\u001b[0;31mNameError\u001b[0m                                 Traceback (most recent call last)",
      "\u001b[0;32m/srv/condor/execute/dir_39840/ipykernel_40821/1860416547.py\u001b[0m in \u001b[0;36m<module>\u001b[0;34m\u001b[0m\n\u001b[1;32m      1\u001b[0m \u001b[0;32mimport\u001b[0m \u001b[0mpickle\u001b[0m\u001b[0;34m\u001b[0m\u001b[0;34m\u001b[0m\u001b[0m\n\u001b[1;32m      2\u001b[0m \u001b[0mf\u001b[0m \u001b[0;34m=\u001b[0m \u001b[0mopen\u001b[0m\u001b[0;34m(\u001b[0m\u001b[0;34m\"/home/heyitao2/Experiments/prediction/VL-T5/dict.pkl\"\u001b[0m\u001b[0;34m,\u001b[0m \u001b[0;34m\"wb\"\u001b[0m\u001b[0;34m)\u001b[0m\u001b[0;34m\u001b[0m\u001b[0;34m\u001b[0m\u001b[0m\n\u001b[0;32m----> 3\u001b[0;31m \u001b[0mpickle\u001b[0m\u001b[0;34m.\u001b[0m\u001b[0mdump\u001b[0m\u001b[0;34m(\u001b[0m\u001b[0moutput\u001b[0m\u001b[0;34m,\u001b[0m \u001b[0mf\u001b[0m\u001b[0;34m)\u001b[0m\u001b[0;34m\u001b[0m\u001b[0;34m\u001b[0m\u001b[0m\n\u001b[0m\u001b[1;32m      4\u001b[0m \u001b[0mf\u001b[0m\u001b[0;34m.\u001b[0m\u001b[0mclose\u001b[0m\u001b[0;34m(\u001b[0m\u001b[0;34m)\u001b[0m\u001b[0;34m\u001b[0m\u001b[0;34m\u001b[0m\u001b[0m\n",
      "\u001b[0;31mNameError\u001b[0m: name 'output' is not defined"
     ]
    }
   ],
   "source": [
    "import pickle\n",
    "f = open(\"/home/heyitao2/Experiments/prediction/VL-T5/shape_images/dict.pkl\", \"wb\")\n",
    "pickle.dump(output, f)\n",
    "f.close()"
   ]
  },
  {
   "cell_type": "code",
   "execution_count": 8,
   "id": "09209ea8-9332-492a-98a4-cb96961b55b2",
   "metadata": {},
   "outputs": [],
   "source": [
    "data = pd.read_pickle(r\"/home/heyitao2/Experiments/prediction/VL-T5/shape_images/dict.pkl\")"
   ]
  },
  {
   "cell_type": "code",
   "execution_count": 12,
   "id": "b8c6cd88-7848-4e19-bd85-30ecc58b0a86",
   "metadata": {},
   "outputs": [
    {
     "name": "stdout",
     "output_type": "stream",
     "text": [
      "odict_keys(['obj_ids', 'obj_probs', 'attr_ids', 'attr_probs', 'boxes', 'sizes', 'preds_per_image', 'roi_features', 'normalized_boxes'])\n"
     ]
    }
   ],
   "source": [
    "print(data['0.png'].keys())"
   ]
  },
  {
   "cell_type": "code",
   "execution_count": 13,
   "id": "97189f77-d3a5-471b-9775-057358886243",
   "metadata": {},
   "outputs": [
    {
     "name": "stdout",
     "output_type": "stream",
     "text": [
      "torch.Size([1, 36, 4])\n"
     ]
    }
   ],
   "source": [
    "print(data['1.png']['boxes'].shape)"
   ]
  },
  {
   "cell_type": "code",
   "execution_count": null,
   "id": "c709d161-0409-4dd0-ac95-f7467dfc9e30",
   "metadata": {},
   "outputs": [],
   "source": []
  }
 ],
 "metadata": {
  "kernelspec": {
   "display_name": "software",
   "language": "python",
   "name": "software"
  },
  "language_info": {
   "codemirror_mode": {
    "name": "ipython",
    "version": 3
   },
   "file_extension": ".py",
   "mimetype": "text/x-python",
   "name": "python",
   "nbconvert_exporter": "python",
   "pygments_lexer": "ipython3",
   "version": "3.9.7"
  }
 },
 "nbformat": 4,
 "nbformat_minor": 5
}
